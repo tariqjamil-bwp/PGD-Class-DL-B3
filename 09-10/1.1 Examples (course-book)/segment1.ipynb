{
 "cells": [
  {
   "cell_type": "code",
   "execution_count": 3,
   "metadata": {},
   "outputs": [
    {
     "name": "stderr",
     "output_type": "stream",
     "text": [
      "/home/tjamil/anaconda3/envs/tf/lib/python3.11/site-packages/tqdm/auto.py:21: TqdmWarning: IProgress not found. Please update jupyter and ipywidgets. See https://ipywidgets.readthedocs.io/en/stable/user_install.html\n",
      "  from .autonotebook import tqdm as notebook_tqdm\n",
      "2023-11-04 09:21:53.895981: W tensorflow/tsl/platform/cloud/google_auth_provider.cc:184] All attempts to get a Google authentication bearer token failed, returning an empty token. Retrieving token from files failed with \"NOT_FOUND: Could not locate the credentials file.\". Retrieving token from GCE failed with \"FAILED_PRECONDITION: Error executing an HTTP request: libcurl code 6 meaning 'Couldn't resolve host name', error details: Could not resolve host: metadata.google.internal\".\n"
     ]
    },
    {
     "name": "stdout",
     "output_type": "stream",
     "text": [
      "\u001b[1mDownloading and preparing dataset Unknown size (download: Unknown size, generated: Unknown size, total: Unknown size) to /home/tjamil/tensorflow_datasets/oxford_iiit_pet/3.2.0...\u001b[0m\n"
     ]
    },
    {
     "name": "stderr",
     "output_type": "stream",
     "text": [
      "Dl Completed...: 0 url [00:00, ? url/s]\n",
      "Dl Completed...:   0%|          | 0/1 [00:00<?, ? url/s]\n",
      "Dl Completed...:   0%|          | 0/2 [00:00<?, ? url/s]\n",
      "\u001b[AWARNING:urllib3.connectionpool:Retrying (Retry(total=9, connect=None, read=None, redirect=None, status=None)) after connection broken by 'NameResolutionError(\"<urllib3.connection.HTTPConnection object at 0x7f69910fbc50>: Failed to resolve 'www.robots.ox.ac.uk' ([Errno -3] Temporary failure in name resolution)\")': /~vgg/data/pets/data/annotations.tar.gz\n",
      "WARNING:urllib3.connectionpool:Retrying (Retry(total=9, connect=None, read=None, redirect=None, status=None)) after connection broken by 'NameResolutionError(\"<urllib3.connection.HTTPConnection object at 0x7f6990fbf450>: Failed to resolve 'www.robots.ox.ac.uk' ([Errno -3] Temporary failure in name resolution)\")': /~vgg/data/pets/data/images.tar.gz\n",
      "WARNING:urllib3.connectionpool:Retrying (Retry(total=8, connect=None, read=None, redirect=None, status=None)) after connection broken by 'NameResolutionError(\"<urllib3.connection.HTTPConnection object at 0x7f6990fab990>: Failed to resolve 'www.robots.ox.ac.uk' ([Errno -3] Temporary failure in name resolution)\")': /~vgg/data/pets/data/annotations.tar.gz\n",
      "WARNING:urllib3.connectionpool:Retrying (Retry(total=8, connect=None, read=None, redirect=None, status=None)) after connection broken by 'NameResolutionError(\"<urllib3.connection.HTTPConnection object at 0x7f6990fbffd0>: Failed to resolve 'www.robots.ox.ac.uk' ([Errno -3] Temporary failure in name resolution)\")': /~vgg/data/pets/data/images.tar.gz\n",
      "WARNING:urllib3.connectionpool:Retrying (Retry(total=7, connect=None, read=None, redirect=None, status=None)) after connection broken by 'NameResolutionError(\"<urllib3.connection.HTTPConnection object at 0x7f699036ccd0>: Failed to resolve 'www.robots.ox.ac.uk' ([Errno -3] Temporary failure in name resolution)\")': /~vgg/data/pets/data/annotations.tar.gz\n",
      "WARNING:urllib3.connectionpool:Retrying (Retry(total=7, connect=None, read=None, redirect=None, status=None)) after connection broken by 'NameResolutionError(\"<urllib3.connection.HTTPConnection object at 0x7f699036dad0>: Failed to resolve 'www.robots.ox.ac.uk' ([Errno -3] Temporary failure in name resolution)\")': /~vgg/data/pets/data/images.tar.gz\n",
      "WARNING:urllib3.connectionpool:Retrying (Retry(total=6, connect=None, read=None, redirect=None, status=None)) after connection broken by 'NameResolutionError(\"<urllib3.connection.HTTPConnection object at 0x7f699036e7d0>: Failed to resolve 'www.robots.ox.ac.uk' ([Errno -3] Temporary failure in name resolution)\")': /~vgg/data/pets/data/annotations.tar.gz\n",
      "WARNING:urllib3.connectionpool:Retrying (Retry(total=6, connect=None, read=None, redirect=None, status=None)) after connection broken by 'NameResolutionError(\"<urllib3.connection.HTTPConnection object at 0x7f699036f750>: Failed to resolve 'www.robots.ox.ac.uk' ([Errno -3] Temporary failure in name resolution)\")': /~vgg/data/pets/data/images.tar.gz\n"
     ]
    }
   ],
   "source": [
    "import tensorflow as tf\n",
    "import tensorflow_datasets as tfds\n",
    "\n",
    "# Load the dataset\n",
    "dataset, info = tfds.load('oxford_iiit_pet:3.*.*', with_info=True)\n",
    "\n",
    "# Split the dataset into training and testing sets\n",
    "train_dataset, test_dataset = dataset['train'], dataset['test']\n",
    "\n",
    "# Preprocess the images\n",
    "def format_example(example):\n",
    "   image = example['image']\n",
    "   image = tf.image.resize(image, (128, 128))\n",
    "   image = image / 255.0\n",
    "\n",
    "   mask = example['segmentation_mask']\n",
    "   mask = tf.image.resize(mask, (128, 128))\n",
    "\n",
    "   return image, mask\n",
    "\n",
    "train_dataset = train_dataset.map(format_example)\n",
    "test_dataset = test_dataset.map(format_example)\n"
   ]
  },
  {
   "cell_type": "code",
   "execution_count": null,
   "metadata": {},
   "outputs": [],
   "source": []
  }
 ],
 "metadata": {
  "kernelspec": {
   "display_name": "tf",
   "language": "python",
   "name": "python3"
  },
  "language_info": {
   "codemirror_mode": {
    "name": "ipython",
    "version": 3
   },
   "file_extension": ".py",
   "mimetype": "text/x-python",
   "name": "python",
   "nbconvert_exporter": "python",
   "pygments_lexer": "ipython3",
   "version": "3.11.5"
  }
 },
 "nbformat": 4,
 "nbformat_minor": 2
}
